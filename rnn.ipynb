{
 "cells": [
  {
   "cell_type": "markdown",
   "metadata": {},
   "source": [
    "Window size - number of  of past values we are using  to predict  the  future value"
   ]
  },
  {
   "cell_type": "markdown",
   "metadata": {},
   "source": [
    "<h3>Loading the libraries <h3>"
   ]
  },
  {
   "cell_type": "code",
   "execution_count": 1,
   "metadata": {},
   "outputs": [],
   "source": [
    "import tensorflow as tf\n",
    "import pickle"
   ]
  },
  {
   "cell_type": "code",
   "execution_count": 2,
   "metadata": {},
   "outputs": [
    {
     "name": "stdout",
     "output_type": "stream",
     "text": [
      "[0 1 2 3 4]\n",
      "[1 2 3 4 5]\n",
      "[2 3 4 5 6]\n",
      "[3 4 5 6 7]\n",
      "[4 5 6 7 8]\n",
      "[5 6 7 8 9]\n"
     ]
    },
    {
     "name": "stderr",
     "output_type": "stream",
     "text": [
      "2024-05-18 17:14:49.494285: W tensorflow/core/framework/local_rendezvous.cc:404] Local rendezvous is aborting with status: OUT_OF_RANGE: End of sequence\n"
     ]
    }
   ],
   "source": [
    "dataset =tf.data.Dataset.range(10)  \n",
    "#for val in dataset:\n",
    "    #print(val)  \n",
    "    # type of this val is tensor object, in our case it's scalar\n",
    "    #print(val.numpy())\n",
    "    # turning tensor object into numpy array\n",
    "\n",
    "dataset=dataset.window(5,shift=1, drop_remainder=True)\n",
    "# now this data  is a window dataset\n",
    "# windowed dataset ->\n",
    "'''[  Dataset([0, 1, 2, 3, 4]),\n",
    "      Dataset([1, 2, 3, 4, 5]),\n",
    "      Dataset([2, 3, 4, 5, 6]),\n",
    "      Dataset([3, 4, 5, 6, 7]),\n",
    "      Dataset([4, 5, 6, 7, 8]),\n",
    "      Dataset([5, 6, 7, 8, 9])\n",
    "]\n",
    "'''\n",
    "dataset = dataset.flat_map(lambda window: window.batch(5))\n",
    "# here we are taking each window,\n",
    "# batching  each windows elements into a tensor object\n",
    "#Dataset[1,2,3,4,5] -> tensor flow object(1,2,3,4,5)\n",
    "for val in dataset:\n",
    "    print(val.numpy())\n",
    "    #val.numpy() will turn the tensor flow object into numpy array\n",
    "    \n",
    "\n",
    "\n",
    "\n"
   ]
  },
  {
   "cell_type": "markdown",
   "metadata": {},
   "source": [
    "<h3> Creating   the dataset <h3>"
   ]
  },
  {
   "cell_type": "code",
   "execution_count": 3,
   "metadata": {},
   "outputs": [
    {
     "name": "stdout",
     "output_type": "stream",
     "text": [
      "[0 1 2 3] 4\n",
      "[1 2 3 4] 5\n",
      "[2 3 4 5] 6\n",
      "[3 4 5 6] 7\n",
      "[4 5 6 7] 8\n",
      "[5 6 7 8] 9\n"
     ]
    },
    {
     "name": "stderr",
     "output_type": "stream",
     "text": [
      "2024-05-18 17:14:49.560713: W tensorflow/core/framework/local_rendezvous.cc:404] Local rendezvous is aborting with status: OUT_OF_RANGE: End of sequence\n"
     ]
    }
   ],
   "source": [
    "dataset = dataset.map(lambda window: (window[:-1],window[-1]))\n",
    "for x, y in dataset:\n",
    "    print(x.numpy(),y.numpy())\n",
    " # here we are mapping  window (type tensor object) element into a tuple of \n",
    " #(first 4 elements of the window, last element of  the window)   "
   ]
  },
  {
   "cell_type": "markdown",
   "metadata": {},
   "source": [
    "<h3> Shuffling <h3>\n"
   ]
  },
  {
   "cell_type": "code",
   "execution_count": 4,
   "metadata": {},
   "outputs": [
    {
     "name": "stdout",
     "output_type": "stream",
     "text": [
      "[5 6 7 8] 9\n",
      "[3 4 5 6] 7\n",
      "[0 1 2 3] 4\n",
      "[1 2 3 4] 5\n",
      "[4 5 6 7] 8\n",
      "[2 3 4 5] 6\n"
     ]
    },
    {
     "name": "stderr",
     "output_type": "stream",
     "text": [
      "2024-05-18 17:14:49.591570: W tensorflow/core/framework/local_rendezvous.cc:404] Local rendezvous is aborting with status: OUT_OF_RANGE: End of sequence\n"
     ]
    }
   ],
   "source": [
    "dataset =  dataset.shuffle(buffer_size=10)\n",
    "for x, y in dataset:\n",
    "    print(x.numpy(),y.numpy())\n"
   ]
  },
  {
   "cell_type": "markdown",
   "metadata": {},
   "source": [
    "<h3> Batching <h3>"
   ]
  },
  {
   "cell_type": "code",
   "execution_count": 5,
   "metadata": {},
   "outputs": [
    {
     "name": "stdout",
     "output_type": "stream",
     "text": [
      "x= [[4 5 6 7]\n",
      " [2 3 4 5]]\n",
      "y= [8 6]\n",
      "x= [[3 4 5 6]\n",
      " [0 1 2 3]]\n",
      "y= [7 4]\n",
      "x= [[5 6 7 8]\n",
      " [1 2 3 4]]\n",
      "y= [9 5]\n"
     ]
    },
    {
     "name": "stderr",
     "output_type": "stream",
     "text": [
      "2024-05-18 17:14:49.622509: W tensorflow/core/framework/local_rendezvous.cc:404] Local rendezvous is aborting with status: OUT_OF_RANGE: End of sequence\n"
     ]
    }
   ],
   "source": [
    "dataset= dataset.batch(2).prefetch(1)\n",
    "for x,y in dataset:\n",
    "    print(\"x=\"  , x.numpy())\n",
    "    print(\"y=\" ,y.numpy())"
   ]
  },
  {
   "cell_type": "markdown",
   "metadata": {},
   "source": [
    "<h3> Combining all together into a function <h3>"
   ]
  },
  {
   "cell_type": "code",
   "execution_count": 6,
   "metadata": {},
   "outputs": [],
   "source": [
    "def windowed_dataset (series,window_size,batch_size ,shuffle_buffer):\n",
    "    #creating tensor flow object from the series\n",
    "    dataset =  tf.data.Dataset.from_tensor_slices(series)\n",
    "    #creating dataset of windows\n",
    "    dataset = dataset.window(window_size+1,shift=1,drop_remainder=True)\n",
    "    #turning the dataset of windows into dataset  of numpy arrays\n",
    "    dataset.flat_map(lambda window : window.batch(window_size+1))\n",
    "    #shuffling and mapping the each  window dataset into a tuple of (features,label))   \n",
    "    dataset = dataset.shuffle(shuffle_buffer).map(lambda window:(window[:1],window[-1]))\n",
    "    #creating batches\n",
    "    dataset=dataset.batch(batch_size).prefetch(1)\n",
    "    return dataset\n",
    "    "
   ]
  },
  {
   "cell_type": "markdown",
   "metadata": {},
   "source": [
    "<h3> Training a single layer neural network on the time series <h3>"
   ]
  },
  {
   "cell_type": "code",
   "execution_count": 9,
   "metadata": {},
   "outputs": [
    {
     "name": "stdout",
     "output_type": "stream",
     "text": [
      "            Sales\n",
      "2010-05-31     40\n",
      "2010-06-30   3375\n",
      "2010-07-31   3633\n",
      "2010-08-31   1926\n",
      "2010-09-30    801\n",
      "...           ...\n",
      "2022-08-31   3321\n",
      "2022-09-30   1069\n",
      "2022-10-31    870\n",
      "2022-11-30    359\n",
      "2022-12-31    298\n",
      "\n",
      "[152 rows x 1 columns]\n"
     ]
    }
   ],
   "source": [
    "\n",
    "\n",
    "# Load the serialized DataFrame from the file\n",
    "with open('product_df.pkl', 'rb') as f:\n",
    "    product_df = pickle.load(f)\n",
    "\n",
    "# Now you can use the product_df variable in this notebook\n",
    "print(product_df)\n"
   ]
  }
 ],
 "metadata": {
  "kernelspec": {
   "display_name": "stock_predictor",
   "language": "python",
   "name": "python3"
  },
  "language_info": {
   "codemirror_mode": {
    "name": "ipython",
    "version": 3
   },
   "file_extension": ".py",
   "mimetype": "text/x-python",
   "name": "python",
   "nbconvert_exporter": "python",
   "pygments_lexer": "ipython3",
   "version": "3.12.2"
  }
 },
 "nbformat": 4,
 "nbformat_minor": 2
}
