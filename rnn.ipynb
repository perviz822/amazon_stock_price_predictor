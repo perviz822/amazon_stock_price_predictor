{
 "cells": [
  {
   "cell_type": "markdown",
   "metadata": {},
   "source": [
    "Window size - number of  of past values we are using  to predict  the  future value"
   ]
  },
  {
   "cell_type": "markdown",
   "metadata": {},
   "source": [
    "<h3>Loading the libraries <h3>"
   ]
  },
  {
   "cell_type": "code",
   "execution_count": 2,
   "metadata": {},
   "outputs": [],
   "source": [
    "import tensorflow as tf"
   ]
  },
  {
   "cell_type": "code",
   "execution_count": 27,
   "metadata": {},
   "outputs": [
    {
     "name": "stdout",
     "output_type": "stream",
     "text": [
      "tf.Tensor(0, shape=(), dtype=int64)\n",
      "0\n",
      "tf.Tensor(1, shape=(), dtype=int64)\n",
      "1\n",
      "tf.Tensor(2, shape=(), dtype=int64)\n",
      "2\n",
      "tf.Tensor(3, shape=(), dtype=int64)\n",
      "3\n",
      "tf.Tensor(4, shape=(), dtype=int64)\n",
      "4\n",
      "tf.Tensor(5, shape=(), dtype=int64)\n",
      "5\n",
      "tf.Tensor(6, shape=(), dtype=int64)\n",
      "6\n",
      "tf.Tensor(7, shape=(), dtype=int64)\n",
      "7\n",
      "tf.Tensor(8, shape=(), dtype=int64)\n",
      "8\n",
      "tf.Tensor(9, shape=(), dtype=int64)\n",
      "9\n"
     ]
    },
    {
     "name": "stderr",
     "output_type": "stream",
     "text": [
      "2024-05-18 10:53:11.395969: W tensorflow/core/framework/local_rendezvous.cc:404] Local rendezvous is aborting with status: OUT_OF_RANGE: End of sequence\n"
     ]
    },
    {
     "data": {
      "text/plain": [
       "'\\ndataset =  dataset.window(5,shift=1,drop_remainder=True)\\ndataset =  dataset.flat_map(lambda window:window.batch(5))\\nfor window in dataset:\\n  print(window.numpy())\\n'"
      ]
     },
     "execution_count": 27,
     "metadata": {},
     "output_type": "execute_result"
    }
   ],
   "source": [
    "dataset =tf.data.Dataset.range(10)  \n",
    "for val in dataset:\n",
    "    print(val)  \n",
    "    # type of this val is tensor object, in our case it's scalar\n",
    "    print(val.numpy())\n",
    "    # turning tensor object into numpy array\n",
    "\n",
    "\n",
    "\n",
    "\n",
    "\n"
   ]
  },
  {
   "cell_type": "code",
   "execution_count": null,
   "metadata": {},
   "outputs": [],
   "source": [
    "'''\n",
    "dataset =  dataset.window(5,shift=1,drop_remainder=True)\n",
    "dataset =  dataset.flat_map(lambda window:window.batch(5))\n",
    "for window in dataset:\n",
    "  print(window.numpy())\n",
    "'''"
   ]
  }
 ],
 "metadata": {
  "kernelspec": {
   "display_name": "stock_predictor",
   "language": "python",
   "name": "python3"
  },
  "language_info": {
   "codemirror_mode": {
    "name": "ipython",
    "version": 3
   },
   "file_extension": ".py",
   "mimetype": "text/x-python",
   "name": "python",
   "nbconvert_exporter": "python",
   "pygments_lexer": "ipython3",
   "version": "3.12.2"
  }
 },
 "nbformat": 4,
 "nbformat_minor": 2
}
