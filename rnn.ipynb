{
 "cells": [
  {
   "cell_type": "markdown",
   "metadata": {},
   "source": [
    "Window size - number of  of past values we are using  to predict  the  future value"
   ]
  },
  {
   "cell_type": "markdown",
   "metadata": {},
   "source": [
    "<h3>Loading the libraries <h3>"
   ]
  },
  {
   "cell_type": "code",
   "execution_count": 32,
   "metadata": {},
   "outputs": [],
   "source": [
    "import tensorflow as tf"
   ]
  },
  {
   "cell_type": "code",
   "execution_count": 33,
   "metadata": {},
   "outputs": [
    {
     "name": "stdout",
     "output_type": "stream",
     "text": [
      "[0 1 2 3 4]\n",
      "[1 2 3 4 5]\n",
      "[2 3 4 5 6]\n",
      "[3 4 5 6 7]\n",
      "[4 5 6 7 8]\n",
      "[5 6 7 8 9]\n"
     ]
    },
    {
     "name": "stderr",
     "output_type": "stream",
     "text": [
      "2024-05-18 16:03:39.616210: W tensorflow/core/framework/local_rendezvous.cc:404] Local rendezvous is aborting with status: OUT_OF_RANGE: End of sequence\n"
     ]
    }
   ],
   "source": [
    "dataset =tf.data.Dataset.range(10)  \n",
    "#for val in dataset:\n",
    "    #print(val)  \n",
    "    # type of this val is tensor object, in our case it's scalar\n",
    "    #print(val.numpy())\n",
    "    # turning tensor object into numpy array\n",
    "\n",
    "dataset=dataset.window(5,shift=1, drop_remainder=True)\n",
    "# now this data  is a window dataset\n",
    "# windowed dataset ->\n",
    "'''[  Dataset([0, 1, 2, 3, 4]),\n",
    "      Dataset([1, 2, 3, 4, 5]),\n",
    "      Dataset([2, 3, 4, 5, 6]),\n",
    "      Dataset([3, 4, 5, 6, 7]),\n",
    "      Dataset([4, 5, 6, 7, 8]),\n",
    "      Dataset([5, 6, 7, 8, 9])\n",
    "]\n",
    "'''\n",
    "dataset = dataset.flat_map(lambda window: window.batch(5))\n",
    "# here we are taking each window,\n",
    "# batching  each windows elements into a tensor object\n",
    "#Dataset[1,2,3,4,5] -> tensor flow object(1,2,3,4,5)\n",
    "for val in dataset:\n",
    "    print(val.numpy())\n",
    "    #val.numpy() will turn the tensor flow object into numpy array\n",
    "    \n",
    "\n",
    "\n",
    "\n"
   ]
  },
  {
   "cell_type": "markdown",
   "metadata": {},
   "source": [
    "<h3> Creating   the dataset <h3>"
   ]
  },
  {
   "cell_type": "code",
   "execution_count": 34,
   "metadata": {},
   "outputs": [
    {
     "name": "stdout",
     "output_type": "stream",
     "text": [
      "[0 1 2 3] 4\n",
      "[1 2 3 4] 5\n",
      "[2 3 4 5] 6\n",
      "[3 4 5 6] 7\n",
      "[4 5 6 7] 8\n",
      "[5 6 7 8] 9\n"
     ]
    },
    {
     "name": "stderr",
     "output_type": "stream",
     "text": [
      "2024-05-18 16:03:39.646523: W tensorflow/core/framework/local_rendezvous.cc:404] Local rendezvous is aborting with status: OUT_OF_RANGE: End of sequence\n"
     ]
    }
   ],
   "source": [
    "dataset = dataset.map(lambda window: (window[:-1],window[-1]))\n",
    "for x, y in dataset:\n",
    "    print(x.numpy(),y.numpy())\n",
    " # here we are mapping  window (type tensor object) element into a tuple of \n",
    " #(first 4 elements of the window, last element of  the window)   "
   ]
  },
  {
   "cell_type": "markdown",
   "metadata": {},
   "source": [
    "<h3> Shuffling <h3>\n"
   ]
  },
  {
   "cell_type": "code",
   "execution_count": 35,
   "metadata": {},
   "outputs": [
    {
     "name": "stdout",
     "output_type": "stream",
     "text": [
      "[1 2 3 4] 5\n",
      "[4 5 6 7] 8\n",
      "[2 3 4 5] 6\n",
      "[3 4 5 6] 7\n",
      "[0 1 2 3] 4\n",
      "[5 6 7 8] 9\n"
     ]
    },
    {
     "name": "stderr",
     "output_type": "stream",
     "text": [
      "2024-05-18 16:03:39.670781: W tensorflow/core/framework/local_rendezvous.cc:404] Local rendezvous is aborting with status: OUT_OF_RANGE: End of sequence\n"
     ]
    }
   ],
   "source": [
    "dataset =  dataset.shuffle(buffer_size=10)\n",
    "for x, y in dataset:\n",
    "    print(x.numpy(),y.numpy())\n"
   ]
  },
  {
   "cell_type": "markdown",
   "metadata": {},
   "source": [
    "<h3> Batching <h3>"
   ]
  },
  {
   "cell_type": "code",
   "execution_count": 36,
   "metadata": {},
   "outputs": [
    {
     "name": "stdout",
     "output_type": "stream",
     "text": [
      "x= [[2 3 4 5]\n",
      " [1 2 3 4]]\n",
      "y= [6 5]\n",
      "x= [[3 4 5 6]\n",
      " [0 1 2 3]]\n",
      "y= [7 4]\n",
      "x= [[5 6 7 8]\n",
      " [4 5 6 7]]\n",
      "y= [9 8]\n"
     ]
    },
    {
     "name": "stderr",
     "output_type": "stream",
     "text": [
      "2024-05-18 16:03:39.696823: W tensorflow/core/framework/local_rendezvous.cc:404] Local rendezvous is aborting with status: OUT_OF_RANGE: End of sequence\n"
     ]
    }
   ],
   "source": [
    "dataset= dataset.batch(2).prefetch(1)\n",
    "for x,y in dataset:\n",
    "    print(\"x=\"  , x.numpy())\n",
    "    print(\"y=\" ,y.numpy())"
   ]
  }
 ],
 "metadata": {
  "kernelspec": {
   "display_name": "stock_predictor",
   "language": "python",
   "name": "python3"
  },
  "language_info": {
   "codemirror_mode": {
    "name": "ipython",
    "version": 3
   },
   "file_extension": ".py",
   "mimetype": "text/x-python",
   "name": "python",
   "nbconvert_exporter": "python",
   "pygments_lexer": "ipython3",
   "version": "3.12.2"
  }
 },
 "nbformat": 4,
 "nbformat_minor": 2
}
