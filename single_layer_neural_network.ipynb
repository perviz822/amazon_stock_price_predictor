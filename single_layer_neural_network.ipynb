{
 "cells": [
  {
   "cell_type": "markdown",
   "metadata": {},
   "source": [
    "Window size - number of  of past values we are using  to predict  the  future value"
   ]
  },
  {
   "cell_type": "markdown",
   "metadata": {},
   "source": [
    "<h3>Loading the libraries <h3>"
   ]
  },
  {
   "cell_type": "code",
   "execution_count": 2,
   "metadata": {},
   "outputs": [],
   "source": [
    "import tensorflow as tf\n",
    "import pickle\n",
    "import matplotlib.pyplot as plt\n",
    "from sklearn.preprocessing import MinMaxScaler, StandardScaler"
   ]
  },
  {
   "cell_type": "code",
   "execution_count": 3,
   "metadata": {},
   "outputs": [],
   "source": [
    "\n",
    "tf.get_logger().setLevel('ERROR')  # Suppress TensorFlow warnings\n"
   ]
  },
  {
   "cell_type": "code",
   "execution_count": 4,
   "metadata": {},
   "outputs": [
    {
     "name": "stdout",
     "output_type": "stream",
     "text": [
      "[0 1 2 3 4]\n",
      "[1 2 3 4 5]\n",
      "[2 3 4 5 6]\n",
      "[3 4 5 6 7]\n",
      "[4 5 6 7 8]\n",
      "[5 6 7 8 9]\n"
     ]
    },
    {
     "name": "stderr",
     "output_type": "stream",
     "text": [
      "2024-05-23 11:32:34.635970: W tensorflow/core/framework/local_rendezvous.cc:404] Local rendezvous is aborting with status: OUT_OF_RANGE: End of sequence\n"
     ]
    }
   ],
   "source": [
    "dataset =tf.data.Dataset.range(10)  \n",
    "#for val in dataset:\n",
    "    #print(val)  \n",
    "    # type of this val is tensor object, in our case it's scalar\n",
    "    #print(val.numpy())\n",
    "    # turning tensor object into numpy array\n",
    "\n",
    "dataset=dataset.window(5,shift=1, drop_remainder=True)\n",
    "# now this data  is a window dataset\n",
    "# windowed dataset ->\n",
    "'''[  Dataset([0, 1, 2, 3, 4]),\n",
    "      Dataset([1, 2, 3, 4, 5]),\n",
    "      Dataset([2, 3, 4, 5, 6]),\n",
    "      Dataset([3, 4, 5, 6, 7]),\n",
    "      Dataset([4, 5, 6, 7, 8]),\n",
    "      Dataset([5, 6, 7, 8, 9])\n",
    "]\n",
    "'''\n",
    "dataset = dataset.flat_map(lambda window: window.batch(5))\n",
    "# here we are taking each window,\n",
    "# batching  each windows elements into a tensor object\n",
    "#Dataset[1,2,3,4,5] -> tensor flow object(1,2,3,4,5)\n",
    "for val in dataset:\n",
    "    print(val.numpy())\n",
    "    #val.numpy() will turn the tensor flow object into numpy array\n",
    "    \n",
    "\n",
    "\n",
    "\n"
   ]
  },
  {
   "cell_type": "markdown",
   "metadata": {},
   "source": [
    "<h3> Creating   the dataset <h3>"
   ]
  },
  {
   "cell_type": "code",
   "execution_count": 5,
   "metadata": {},
   "outputs": [
    {
     "name": "stdout",
     "output_type": "stream",
     "text": [
      "[0 1 2 3] 4\n",
      "[1 2 3 4] 5\n",
      "[2 3 4 5] 6\n",
      "[3 4 5 6] 7\n",
      "[4 5 6 7] 8\n",
      "[5 6 7 8] 9\n"
     ]
    },
    {
     "name": "stderr",
     "output_type": "stream",
     "text": [
      "2024-05-23 11:32:34.704743: W tensorflow/core/framework/local_rendezvous.cc:404] Local rendezvous is aborting with status: OUT_OF_RANGE: End of sequence\n"
     ]
    }
   ],
   "source": [
    "dataset = dataset.map(lambda window: (window[:-1],window[-1]))\n",
    "for x, y in dataset:\n",
    "    print(x.numpy(),y.numpy())\n",
    " # here we are mapping  window (type tensor object) element into a tuple of \n",
    " #(first 4 elements of the window, last element of  the window)   "
   ]
  },
  {
   "cell_type": "markdown",
   "metadata": {},
   "source": [
    "<h3> Shuffling <h3>\n"
   ]
  },
  {
   "cell_type": "code",
   "execution_count": 6,
   "metadata": {},
   "outputs": [
    {
     "name": "stdout",
     "output_type": "stream",
     "text": [
      "[2 3 4 5] 6\n",
      "[4 5 6 7] 8\n",
      "[1 2 3 4] 5\n",
      "[5 6 7 8] 9\n",
      "[3 4 5 6] 7\n",
      "[0 1 2 3] 4\n"
     ]
    },
    {
     "name": "stderr",
     "output_type": "stream",
     "text": [
      "2024-05-23 11:32:34.755631: W tensorflow/core/framework/local_rendezvous.cc:404] Local rendezvous is aborting with status: OUT_OF_RANGE: End of sequence\n"
     ]
    }
   ],
   "source": [
    "dataset =  dataset.shuffle(buffer_size=10)\n",
    "for x, y in dataset:\n",
    "    print(x.numpy(),y.numpy())\n"
   ]
  },
  {
   "cell_type": "markdown",
   "metadata": {},
   "source": [
    "<h3> Batching <h3>"
   ]
  },
  {
   "cell_type": "code",
   "execution_count": 7,
   "metadata": {},
   "outputs": [
    {
     "name": "stdout",
     "output_type": "stream",
     "text": [
      "x= [[3 4 5 6]\n",
      " [1 2 3 4]]\n",
      "y= [7 5]\n",
      "x= [[5 6 7 8]\n",
      " [4 5 6 7]]\n",
      "y= [9 8]\n",
      "x= [[2 3 4 5]\n",
      " [0 1 2 3]]\n",
      "y= [6 4]\n"
     ]
    },
    {
     "name": "stderr",
     "output_type": "stream",
     "text": [
      "2024-05-23 11:32:34.811738: W tensorflow/core/framework/local_rendezvous.cc:404] Local rendezvous is aborting with status: OUT_OF_RANGE: End of sequence\n"
     ]
    }
   ],
   "source": [
    "dataset= dataset.batch(2).prefetch(1)\n",
    "for x,y in dataset:\n",
    "    print(\"x=\"  , x.numpy())\n",
    "    print(\"y=\" ,y.numpy())"
   ]
  },
  {
   "cell_type": "markdown",
   "metadata": {},
   "source": [
    "<h3> Combining all together into a function <h3>"
   ]
  },
  {
   "cell_type": "code",
   "execution_count": 8,
   "metadata": {},
   "outputs": [],
   "source": [
    "\n",
    "\n",
    "def windowed_dataset(series, window_size, batch_size, shuffle_buffer):\n",
    "    # creating TensorFlow object from the series\n",
    "    dataset = tf.data.Dataset.from_tensor_slices(series)\n",
    "    # creating dataset of windows\n",
    "    dataset = dataset.window(window_size + 1, shift=1, drop_remainder=True)\n",
    "    # turning the dataset of windows into dataset of numpy arrays\n",
    "    dataset = dataset.flat_map(lambda window: window.batch(window_size + 1))\n",
    "    # shuffling and mapping each window dataset into a tuple of (features, label)\n",
    "    dataset = dataset.shuffle(shuffle_buffer).map(lambda window: (window[:-1], window[-1]))\n",
    "    # creating batches\n",
    "    dataset = dataset.batch(batch_size).prefetch(1)\n",
    "    \n",
    "    return dataset\n",
    "\n",
    "# Example usage\n"
   ]
  },
  {
   "cell_type": "markdown",
   "metadata": {},
   "source": [
    "<h3> Getting the time series data from the other notebook <h3>"
   ]
  },
  {
   "cell_type": "code",
   "execution_count": 9,
   "metadata": {},
   "outputs": [
    {
     "name": "stdout",
     "output_type": "stream",
     "text": [
      "[   40  3375  3633  1926   801   440   134    52   151   468  3763  2894\n",
      "  6574  4858  4341  4315  1151   256   165   284   116   434  3417  5518\n",
      "  7293  4021  2940  1766  1023   166   171    88   551  1531  1893  3743\n",
      "  8362  6951  4444  1762   784   239   142   179   226  1621  3656  5636\n",
      "  6737 10197  4197  2850   782   836   275    83   264  1703  6551  5036\n",
      "  6294 11044  6467  2241   834   172   343   172   384  1021  4889 10620\n",
      "  4918  8587  4811  3441  2480   683   899    31   190   953  3261  4125\n",
      "  4762  7630  3304  1008   209    61    74    26    70   610  3898  5538\n",
      "  9329  3885  2377  1665   568   260   218   111  1057  1831  5700  3532\n",
      "  6024 12094  2449  1069   182   306   150   180  1220  3019  5958  6809\n",
      " 12728  9020 10432  3640  2332  1028   501   442   603   825  4326  3580\n",
      "  4449 12455  2830   462   552   125    42    87   190   798  5486  6048\n",
      " 14477 15457  8435  3321  1069   870   359   298]\n",
      "152\n",
      "            Sales\n",
      "2010-05-31     40\n",
      "2010-06-30   3375\n",
      "2010-07-31   3633\n",
      "2010-08-31   1926\n",
      "2010-09-30    801\n",
      "...           ...\n",
      "2022-08-31   3321\n",
      "2022-09-30   1069\n",
      "2022-10-31    870\n",
      "2022-11-30    359\n",
      "2022-12-31    298\n",
      "\n",
      "[152 rows x 1 columns]\n"
     ]
    }
   ],
   "source": [
    "\n",
    "# Load the serialized DataFrame from the file\n",
    "with open('product_df.pkl', 'rb') as f:\n",
    "    product_df = pickle.load(f)\n",
    "# Now you can use the product_df variable in this notebook\n",
    "sales_array =  product_df['Sales'].values\n",
    "print(sales_array)\n",
    "print(len(sales_array))\n",
    "print(product_df)"
   ]
  },
  {
   "cell_type": "markdown",
   "metadata": {},
   "source": [
    "<h3> Normalize the data <h3>"
   ]
  },
  {
   "cell_type": "code",
   "execution_count": 10,
   "metadata": {},
   "outputs": [
    {
     "name": "stdout",
     "output_type": "stream",
     "text": [
      "[[9.07264597e-04]\n",
      " [2.17030653e-01]\n",
      " [2.33750243e-01]\n",
      " [1.23128767e-01]\n",
      " [5.02235759e-02]\n",
      " [2.68291102e-02]\n",
      " [6.99889832e-03]\n",
      " [1.68491997e-03]\n",
      " [8.10057676e-03]\n",
      " [2.86436394e-02]\n",
      " [2.42174843e-01]\n",
      " [1.85859633e-01]\n",
      " [4.24340613e-01]\n",
      " [3.13135895e-01]\n",
      " [2.79631910e-01]\n",
      " [2.77946990e-01]\n",
      " [7.29051908e-02]\n",
      " [1.49050612e-02]\n",
      " [9.00784136e-03]\n",
      " [1.67195904e-02]\n",
      " [5.83241527e-03]\n",
      " [2.64402825e-02]\n",
      " [2.19752446e-01]\n",
      " [3.55906941e-01]\n",
      " [4.70935131e-01]\n",
      " [2.58894433e-01]\n",
      " [1.88840645e-01]\n",
      " [1.12760029e-01]\n",
      " [6.46102002e-02]\n",
      " [9.07264597e-03]\n",
      " [9.39666904e-03]\n",
      " [4.01788607e-03]\n",
      " [3.40224224e-02]\n",
      " [9.75309442e-02]\n",
      " [1.20990215e-01]\n",
      " [2.40878751e-01]\n",
      " [5.40211263e-01]\n",
      " [4.48771953e-01]\n",
      " [2.86306785e-01]\n",
      " [1.12500810e-01]\n",
      " [4.91218975e-02]\n",
      " [1.38033828e-02]\n",
      " [7.51733523e-03]\n",
      " [9.91510596e-03]\n",
      " [1.29609228e-02]\n",
      " [1.03363359e-01]\n",
      " [2.35240749e-01]\n",
      " [3.63553885e-01]\n",
      " [4.34903765e-01]\n",
      " [6.59127730e-01]\n",
      " [2.70300045e-01]\n",
      " [1.83008230e-01]\n",
      " [4.89922883e-02]\n",
      " [5.24917374e-02]\n",
      " [1.61363489e-02]\n",
      " [3.69386300e-03]\n",
      " [1.54234982e-02]\n",
      " [1.08677338e-01]\n",
      " [4.22850107e-01]\n",
      " [3.24671117e-01]\n",
      " [4.06195321e-01]\n",
      " [7.14017238e-01]\n",
      " [4.17406519e-01]\n",
      " [1.43542220e-01]\n",
      " [5.23621282e-02]\n",
      " [9.46147366e-03]\n",
      " [2.05430627e-02]\n",
      " [9.46147366e-03]\n",
      " [2.32000518e-02]\n",
      " [6.44805910e-02]\n",
      " [3.15144838e-01]\n",
      " [6.86540082e-01]\n",
      " [3.17024172e-01]\n",
      " [5.54792301e-01]\n",
      " [3.10090078e-01]\n",
      " [2.21307757e-01]\n",
      " [1.59030523e-01]\n",
      " [4.25766315e-02]\n",
      " [5.65744281e-02]\n",
      " [3.24023070e-04]\n",
      " [1.06279567e-02]\n",
      " [6.00738773e-02]\n",
      " [2.09642927e-01]\n",
      " [2.65634113e-01]\n",
      " [3.06914652e-01]\n",
      " [4.92774286e-01]\n",
      " [2.12429525e-01]\n",
      " [6.36381310e-02]\n",
      " [1.18592444e-02]\n",
      " [2.26816149e-03]\n",
      " [3.11062148e-03]\n",
      " [0.00000000e+00]\n",
      " [2.85140302e-03]\n",
      " [3.78458946e-02]\n",
      " [2.50923466e-01]\n",
      " [3.57203033e-01]\n",
      " [6.02877325e-01]\n",
      " [2.50081006e-01]\n",
      " [1.52355648e-01]\n",
      " [1.06214762e-01]\n",
      " [3.51241008e-02]\n",
      " [1.51642797e-02]\n",
      " [1.24424859e-02]\n",
      " [5.50839220e-03]\n",
      " [6.68135571e-02]\n",
      " [1.16972328e-01]\n",
      " [3.67701380e-01]\n",
      " [2.27204977e-01]\n",
      " [3.88698075e-01]\n",
      " [7.82062083e-01]\n",
      " [1.57021580e-01]\n",
      " [6.75912125e-02]\n",
      " [1.01095198e-02]\n",
      " [1.81452919e-02]\n",
      " [8.03577215e-03]\n",
      " [9.97991057e-03]\n",
      " [7.73767092e-02]\n",
      " [1.93960210e-01]\n",
      " [3.84420971e-01]\n",
      " [4.39569697e-01]\n",
      " [8.23148208e-01]\n",
      " [5.82852699e-01]\n",
      " [6.74356814e-01]\n",
      " [2.34203875e-01]\n",
      " [1.49439440e-01]\n",
      " [6.49342233e-02]\n",
      " [3.07821917e-02]\n",
      " [2.69587195e-02]\n",
      " [3.73922623e-02]\n",
      " [5.17788867e-02]\n",
      " [2.78659841e-01]\n",
      " [2.30315598e-01]\n",
      " [2.86630808e-01]\n",
      " [8.05456549e-01]\n",
      " [1.81712138e-01]\n",
      " [2.82548117e-02]\n",
      " [3.40872270e-02]\n",
      " [6.41565679e-03]\n",
      " [1.03687383e-03]\n",
      " [3.95308146e-03]\n",
      " [1.06279567e-02]\n",
      " [5.00291621e-02]\n",
      " [3.53833193e-01]\n",
      " [3.90253386e-01]\n",
      " [9.36491478e-01]\n",
      " [1.00000000e+00]\n",
      " [5.44942000e-01]\n",
      " [2.13531203e-01]\n",
      " [6.75912125e-02]\n",
      " [5.46950943e-02]\n",
      " [2.15799365e-02]\n",
      " [1.76268550e-02]]\n"
     ]
    }
   ],
   "source": [
    "scaler = MinMaxScaler()\n",
    "product_df = scaler.fit_transform(product_df)\n",
    "print(product_df)"
   ]
  },
  {
   "cell_type": "markdown",
   "metadata": {},
   "source": [
    "<h3> Training, Validation and Test split"
   ]
  },
  {
   "cell_type": "code",
   "execution_count": 11,
   "metadata": {},
   "outputs": [
    {
     "name": "stdout",
     "output_type": "stream",
     "text": [
      "[[9.07264597e-04]\n",
      " [2.17030653e-01]\n",
      " [2.33750243e-01]\n",
      " [1.23128767e-01]\n",
      " [5.02235759e-02]\n",
      " [2.68291102e-02]\n",
      " [6.99889832e-03]\n",
      " [1.68491997e-03]\n",
      " [8.10057676e-03]\n",
      " [2.86436394e-02]\n",
      " [2.42174843e-01]\n",
      " [1.85859633e-01]\n",
      " [4.24340613e-01]\n",
      " [3.13135895e-01]\n",
      " [2.79631910e-01]\n",
      " [2.77946990e-01]\n",
      " [7.29051908e-02]\n",
      " [1.49050612e-02]\n",
      " [9.00784136e-03]\n",
      " [1.67195904e-02]\n",
      " [5.83241527e-03]\n",
      " [2.64402825e-02]\n",
      " [2.19752446e-01]\n",
      " [3.55906941e-01]\n",
      " [4.70935131e-01]\n",
      " [2.58894433e-01]\n",
      " [1.88840645e-01]\n",
      " [1.12760029e-01]\n",
      " [6.46102002e-02]\n",
      " [9.07264597e-03]\n",
      " [9.39666904e-03]\n",
      " [4.01788607e-03]\n",
      " [3.40224224e-02]\n",
      " [9.75309442e-02]\n",
      " [1.20990215e-01]\n",
      " [2.40878751e-01]\n",
      " [5.40211263e-01]\n",
      " [4.48771953e-01]\n",
      " [2.86306785e-01]\n",
      " [1.12500810e-01]\n",
      " [4.91218975e-02]\n",
      " [1.38033828e-02]\n",
      " [7.51733523e-03]\n",
      " [9.91510596e-03]\n",
      " [1.29609228e-02]\n",
      " [1.03363359e-01]\n",
      " [2.35240749e-01]\n",
      " [3.63553885e-01]\n",
      " [4.34903765e-01]\n",
      " [6.59127730e-01]\n",
      " [2.70300045e-01]\n",
      " [1.83008230e-01]\n",
      " [4.89922883e-02]\n",
      " [5.24917374e-02]\n",
      " [1.61363489e-02]\n",
      " [3.69386300e-03]\n",
      " [1.54234982e-02]\n",
      " [1.08677338e-01]\n",
      " [4.22850107e-01]\n",
      " [3.24671117e-01]\n",
      " [4.06195321e-01]\n",
      " [7.14017238e-01]\n",
      " [4.17406519e-01]\n",
      " [1.43542220e-01]\n",
      " [5.23621282e-02]\n",
      " [9.46147366e-03]\n",
      " [2.05430627e-02]\n",
      " [9.46147366e-03]\n",
      " [2.32000518e-02]\n",
      " [6.44805910e-02]\n",
      " [3.15144838e-01]\n",
      " [6.86540082e-01]\n",
      " [3.17024172e-01]\n",
      " [5.54792301e-01]\n",
      " [3.10090078e-01]\n",
      " [2.21307757e-01]\n",
      " [1.59030523e-01]\n",
      " [4.25766315e-02]\n",
      " [5.65744281e-02]\n",
      " [3.24023070e-04]\n",
      " [1.06279567e-02]\n",
      " [6.00738773e-02]\n",
      " [2.09642927e-01]\n",
      " [2.65634113e-01]\n",
      " [3.06914652e-01]\n",
      " [4.92774286e-01]\n",
      " [2.12429525e-01]\n",
      " [6.36381310e-02]\n",
      " [1.18592444e-02]\n",
      " [2.26816149e-03]\n",
      " [3.11062148e-03]\n",
      " [0.00000000e+00]\n",
      " [2.85140302e-03]\n",
      " [3.78458946e-02]\n",
      " [2.50923466e-01]\n",
      " [3.57203033e-01]\n",
      " [6.02877325e-01]\n",
      " [2.50081006e-01]\n",
      " [1.52355648e-01]\n",
      " [1.06214762e-01]\n",
      " [3.51241008e-02]\n",
      " [1.51642797e-02]\n",
      " [1.24424859e-02]\n",
      " [5.50839220e-03]\n",
      " [6.68135571e-02]\n",
      " [1.16972328e-01]]\n"
     ]
    }
   ],
   "source": [
    "validation_percentage = 0.1\n",
    "test_percentage = 0.2\n",
    "train_percentage = 0.7\n",
    "\n",
    "length = len(product_df)\n",
    "# Calculate the end indices for each split\n",
    "train_end = int(length * train_percentage)\n",
    "validation_end = int(length * (train_percentage + validation_percentage))\n",
    "\n",
    "# Slice the array correctly using integer indices\n",
    "training_df = product_df[:train_end]\n",
    "validation_df = product_df[train_end:validation_end]\n",
    "test_df = product_df[validation_end:]\n",
    "print(training_df)\n"
   ]
  },
  {
   "cell_type": "markdown",
   "metadata": {},
   "source": [
    "<h3> Create windowed dataset <h3>"
   ]
  },
  {
   "cell_type": "code",
   "execution_count": 12,
   "metadata": {},
   "outputs": [],
   "source": [
    "window_size = 12\n",
    "batch_size = 2\n",
    "shuffle_buffer = 1000\n",
    "\n",
    "# Create a windowed dataset\n",
    "\n",
    "dataset = windowed_dataset(training_df, window_size, batch_size, shuffle_buffer)\n"
   ]
  },
  {
   "cell_type": "markdown",
   "metadata": {},
   "source": [
    "<h3> Define and compile the model <h3>"
   ]
  },
  {
   "cell_type": "code",
   "execution_count": 13,
   "metadata": {},
   "outputs": [
    {
     "name": "stderr",
     "output_type": "stream",
     "text": [
      "/Users/parvizpirizade/Documents/stock_price_prediction/time_series_analysis/lib/python3.12/site-packages/keras/src/layers/core/dense.py:87: UserWarning: Do not pass an `input_shape`/`input_dim` argument to a layer. When using Sequential models, prefer using an `Input(shape)` object as the first layer in the model instead.\n",
      "  super().__init__(activity_regularizer=activity_regularizer, **kwargs)\n"
     ]
    }
   ],
   "source": [
    "# Define the model\n",
    "model = tf.keras.models.Sequential([\n",
    "    tf.keras.layers.Dense(1, input_shape=[window_size])\n",
    "])\n",
    "# Compile the model\n",
    "model.compile(loss='mse', optimizer=tf.keras.optimizers.SGD(learning_rate=0.01, momentum=0.9))"
   ]
  },
  {
   "cell_type": "markdown",
   "metadata": {},
   "source": [
    "<h3> Train the model <h3>"
   ]
  },
  {
   "cell_type": "code",
   "execution_count": 14,
   "metadata": {},
   "outputs": [
    {
     "name": "stdout",
     "output_type": "stream",
     "text": [
      "Epoch 21: Loss 0.008870664983987808\n",
      "Epoch 22: Loss 0.010516143403947353\n",
      "Epoch 23: Loss 0.009476673789322376\n",
      "Epoch 24: Loss 0.009971820749342442\n",
      "Epoch 25: Loss 0.010328611359000206\n"
     ]
    },
    {
     "data": {
      "text/plain": [
       "[<matplotlib.lines.Line2D at 0x295a71be0>]"
      ]
     },
     "execution_count": 14,
     "metadata": {},
     "output_type": "execute_result"
    },
    {
     "data": {
      "image/png": "[encoded data removed]",
      "text/plain": [
       "<Figure size 640x480 with 1 Axes>"
      ]
     },
     "metadata": {},
     "output_type": "display_data"
    }
   ],
   "source": [
    "dataset = dataset.repeat()  # Repeat the dataset indefinitely\n",
    "# Train the model\n",
    "history = model.fit(dataset, epochs=25, steps_per_epoch=24, verbose=0)\n",
    "last_epochs_loss = history.history['loss'][-5:]\n",
    "\n",
    "# Print the loss values for the last 5 epochs\n",
    "for epoch, loss in enumerate(last_epochs_loss, start=len(history.history['loss']) - 5):\n",
    "    print(f\"Epoch {epoch + 1}: Loss {loss}\")\n",
    "\n",
    "plt.plot(history.history['loss'])\n",
    "\n"
   ]
  },
  {
   "cell_type": "markdown",
   "metadata": {},
   "source": [
    "<h3> Create the dataset for predictions <h3>"
   ]
  },
  {
   "cell_type": "code",
   "execution_count": 15,
   "metadata": {},
   "outputs": [],
   "source": [
    "# Create dataset for predictions\n",
    "predict_dataset = tf.data.Dataset.from_tensor_slices(training_df)\n",
    "predict_dataset = predict_dataset.window(window_size, shift=1, drop_remainder=True)\n",
    "predict_dataset = predict_dataset.flat_map(lambda window: window.batch(window_size))\n",
    "predict_dataset = predict_dataset.batch(1).prefetch(1)\n"
   ]
  },
  {
   "cell_type": "markdown",
   "metadata": {},
   "source": [
    "<h3> Make the predictions on the training dataset <h3>"
   ]
  },
  {
   "cell_type": "code",
   "execution_count": 16,
   "metadata": {},
   "outputs": [
    {
     "name": "stdout",
     "output_type": "stream",
     "text": [
      "\u001b[1m95/95\u001b[0m \u001b[32m━━━━━━━━━━━━━━━━━━━━\u001b[0m\u001b[37m\u001b[0m \u001b[1m0s\u001b[0m 620us/step\n"
     ]
    },
    {
     "name": "stderr",
     "output_type": "stream",
     "text": [
      "2024-05-23 11:32:36.278141: W tensorflow/core/framework/local_rendezvous.cc:404] Local rendezvous is aborting with status: OUT_OF_RANGE: End of sequence\n",
      "/opt/homebrew/Cellar/python@3.12/3.12.2_1/Frameworks/Python.framework/Versions/3.12/lib/python3.12/contextlib.py:158: UserWarning: Your input ran out of data; interrupting training. Make sure that your dataset or generator can generate at least `steps_per_epoch * epochs` batches. You may need to use the `.repeat()` function when building your dataset.\n",
      "  self.gen.throw(value)\n"
     ]
    }
   ],
   "source": [
    "# Make predictions\n",
    "predictions = model.predict(predict_dataset)\n"
   ]
  },
  {
   "cell_type": "markdown",
   "metadata": {},
   "source": [
    "<h3> Flatten for plotting <h3>"
   ]
  },
  {
   "cell_type": "code",
   "execution_count": 17,
   "metadata": {},
   "outputs": [],
   "source": [
    "# Flatten predictions for plotting\n",
    "rescaled_predictions = predictions.flatten()\n"
   ]
  },
  {
   "cell_type": "markdown",
   "metadata": {},
   "source": [
    "<h3> Plot the predictions along with  original training data <h3>"
   ]
  },
  {
   "cell_type": "code",
   "execution_count": 18,
   "metadata": {},
   "outputs": [
    {
     "data": {
      "text/plain": [
       "Text(0.5, 0, 'Time')"
      ]
     },
     "execution_count": 18,
     "metadata": {},
     "output_type": "execute_result"
    },
    {
     "data": {
      "image/png": "[encoded data removed]",
      "text/plain": [
       "<Figure size 1200x600 with 1 Axes>"
      ]
     },
     "metadata": {},
     "output_type": "display_data"
    }
   ],
   "source": [
    "# Plotting\n",
    "plt.figure(figsize=(12, 6))\n",
    "# Original data\n",
    "plt.plot(range(len(training_df)), training_df.flatten(), label='Original Sales', color='blue')\n",
    "# Predictions (shifted to align with original data)\n",
    "plt.plot(range(window_size, len(rescaled_predictions) + window_size), rescaled_predictions, label='Predictions', color='orange')\n",
    "plt.title('Original and Predicted Sales')\n",
    "plt.xlabel('Time')"
   ]
  }
 ],
 "metadata": {
  "kernelspec": {
   "display_name": "stock_predictor",
   "language": "python",
   "name": "python3"
  },
  "language_info": {
   "codemirror_mode": {
    "name": "ipython",
    "version": 3
   },
   "file_extension": ".py",
   "mimetype": "text/x-python",
   "name": "python",
   "nbconvert_exporter": "python",
   "pygments_lexer": "ipython3",
   "version": "3.12.2"
  }
 },
 "nbformat": 4,
 "nbformat_minor": 2
}
