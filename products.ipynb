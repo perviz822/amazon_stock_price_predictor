{
 "cells": [
  {
   "cell_type": "code",
   "execution_count": null,
   "metadata": {},
   "outputs": [],
   "source": [
    "\n",
    "import matplotlib.pyplot as plt # type: ignore\n",
    "import pandas as pd# type: ignore\n",
    "from sklearn.model_selection import train_test_split# type: ignore\n",
    "from sklearn.linear_model import LinearRegression# type: ignore\n",
    "from sklearn.metrics import mean_squared_error# type: ignore\n",
    "from sklearn.model_selection import train_test_split# type: ignore\n",
    "import statsmodels.api as sm# type: ignore\n",
    "import numpy as np\n",
    "\n"
   ]
  },
  {
   "cell_type": "code",
   "execution_count": null,
   "metadata": {},
   "outputs": [],
   "source": [
    "df =   pd.read_csv('products.csv')"
   ]
  },
  {
   "cell_type": "code",
   "execution_count": null,
   "metadata": {},
   "outputs": [],
   "source": [
    "\n",
    "print(df)"
   ]
  }
 ],
 "metadata": {
  "language_info": {
   "name": "python"
  }
 },
 "nbformat": 4,
 "nbformat_minor": 2
}
