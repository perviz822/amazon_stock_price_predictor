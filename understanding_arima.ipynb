{
 "cells": [
  {
   "cell_type": "code",
   "execution_count": 1,
   "metadata": {},
   "outputs": [
    {
     "ename": "ImportError",
     "evalue": "cannot import name 'Mapping' from 'collections' (/opt/homebrew/Cellar/python@3.12/3.12.2_1/Frameworks/Python.framework/Versions/3.12/lib/python3.12/collections/__init__.py)",
     "output_type": "error",
     "traceback": [
      "\u001b[0;31m---------------------------------------------------------------------------\u001b[0m",
      "\u001b[0;31mImportError\u001b[0m                               Traceback (most recent call last)",
      "Cell \u001b[0;32mIn[1], line 3\u001b[0m\n\u001b[1;32m      1\u001b[0m \u001b[38;5;28;01mimport\u001b[39;00m \u001b[38;5;21;01mnumpy\u001b[39;00m \u001b[38;5;28;01mas\u001b[39;00m \u001b[38;5;21;01mnp\u001b[39;00m\n\u001b[1;32m      2\u001b[0m \u001b[38;5;28;01mimport\u001b[39;00m \u001b[38;5;21;01mmatplotlib\u001b[39;00m\u001b[38;5;21;01m.\u001b[39;00m\u001b[38;5;21;01mpyplot\u001b[39;00m \u001b[38;5;28;01mas\u001b[39;00m \u001b[38;5;21;01mplt\u001b[39;00m\n\u001b[0;32m----> 3\u001b[0m \u001b[38;5;28;01mimport\u001b[39;00m \u001b[38;5;21;01mstatsmodels\u001b[39;00m\u001b[38;5;21;01m.\u001b[39;00m\u001b[38;5;21;01mapi\u001b[39;00m \u001b[38;5;28;01mas\u001b[39;00m \u001b[38;5;21;01msm\u001b[39;00m\n\u001b[1;32m      4\u001b[0m \u001b[38;5;66;03m# Time variable\u001b[39;00m\n\u001b[1;32m      5\u001b[0m t \u001b[38;5;241m=\u001b[39m np\u001b[38;5;241m.\u001b[39marange(\u001b[38;5;241m100\u001b[39m)\n",
      "File \u001b[0;32m~/Documents/stock_price_prediction/time_series_analysis/lib/python3.12/site-packages/statsmodels/__init__.py:1\u001b[0m\n\u001b[0;32m----> 1\u001b[0m \u001b[38;5;28;01mfrom\u001b[39;00m \u001b[38;5;21;01mstatsmodels\u001b[39;00m\u001b[38;5;21;01m.\u001b[39;00m\u001b[38;5;21;01mcompat\u001b[39;00m\u001b[38;5;21;01m.\u001b[39;00m\u001b[38;5;21;01mpatsy\u001b[39;00m \u001b[38;5;28;01mimport\u001b[39;00m monkey_patch_cat_dtype\n\u001b[1;32m      3\u001b[0m \u001b[38;5;28;01mfrom\u001b[39;00m \u001b[38;5;21;01mstatsmodels\u001b[39;00m\u001b[38;5;21;01m.\u001b[39;00m\u001b[38;5;21;01m_version\u001b[39;00m \u001b[38;5;28;01mimport\u001b[39;00m __version__, __version_tuple__\n\u001b[1;32m      5\u001b[0m __version_info__ \u001b[38;5;241m=\u001b[39m __version_tuple__\n",
      "File \u001b[0;32m~/Documents/stock_price_prediction/time_series_analysis/lib/python3.12/site-packages/statsmodels/compat/patsy.py:4\u001b[0m\n\u001b[1;32m      1\u001b[0m \u001b[38;5;28;01mfrom\u001b[39;00m \u001b[38;5;21;01mstatsmodels\u001b[39;00m\u001b[38;5;21;01m.\u001b[39;00m\u001b[38;5;21;01mcompat\u001b[39;00m\u001b[38;5;21;01m.\u001b[39;00m\u001b[38;5;21;01mpandas\u001b[39;00m \u001b[38;5;28;01mimport\u001b[39;00m PD_LT_2\n\u001b[1;32m      3\u001b[0m \u001b[38;5;28;01mimport\u001b[39;00m \u001b[38;5;21;01mpandas\u001b[39;00m \u001b[38;5;28;01mas\u001b[39;00m \u001b[38;5;21;01mpd\u001b[39;00m\n\u001b[0;32m----> 4\u001b[0m \u001b[38;5;28;01mimport\u001b[39;00m \u001b[38;5;21;01mpatsy\u001b[39;00m\u001b[38;5;21;01m.\u001b[39;00m\u001b[38;5;21;01mutil\u001b[39;00m\n\u001b[1;32m      7\u001b[0m \u001b[38;5;28;01mdef\u001b[39;00m \u001b[38;5;21m_safe_is_pandas_categorical_dtype\u001b[39m(dt):\n\u001b[1;32m      8\u001b[0m     \u001b[38;5;28;01mif\u001b[39;00m PD_LT_2:\n",
      "File \u001b[0;32m~/Documents/stock_price_prediction/time_series_analysis/lib/python3.12/site-packages/patsy/__init__.py:77\u001b[0m\n\u001b[1;32m     73\u001b[0m         \u001b[38;5;28mglobals\u001b[39m()[var] \u001b[38;5;241m=\u001b[39m \u001b[38;5;28mgetattr\u001b[39m(mod, var)\n\u001b[1;32m     75\u001b[0m \u001b[38;5;66;03m# This used to have less copy-paste, but explicit import statements make\u001b[39;00m\n\u001b[1;32m     76\u001b[0m \u001b[38;5;66;03m# packaging tools like py2exe and py2app happier. Sigh.\u001b[39;00m\n\u001b[0;32m---> 77\u001b[0m \u001b[38;5;28;01mimport\u001b[39;00m \u001b[38;5;21;01mpatsy\u001b[39;00m\u001b[38;5;21;01m.\u001b[39;00m\u001b[38;5;21;01mhighlevel\u001b[39;00m\n\u001b[1;32m     78\u001b[0m _reexport(patsy\u001b[38;5;241m.\u001b[39mhighlevel)\n\u001b[1;32m     80\u001b[0m \u001b[38;5;28;01mimport\u001b[39;00m \u001b[38;5;21;01mpatsy\u001b[39;00m\u001b[38;5;21;01m.\u001b[39;00m\u001b[38;5;21;01mbuild\u001b[39;00m\n",
      "File \u001b[0;32m~/Documents/stock_price_prediction/time_series_analysis/lib/python3.12/site-packages/patsy/highlevel.py:19\u001b[0m\n\u001b[1;32m     17\u001b[0m \u001b[38;5;28;01mimport\u001b[39;00m \u001b[38;5;21;01mnumpy\u001b[39;00m \u001b[38;5;28;01mas\u001b[39;00m \u001b[38;5;21;01mnp\u001b[39;00m\n\u001b[1;32m     18\u001b[0m \u001b[38;5;28;01mfrom\u001b[39;00m \u001b[38;5;21;01mpatsy\u001b[39;00m \u001b[38;5;28;01mimport\u001b[39;00m PatsyError\n\u001b[0;32m---> 19\u001b[0m \u001b[38;5;28;01mfrom\u001b[39;00m \u001b[38;5;21;01mpatsy\u001b[39;00m\u001b[38;5;21;01m.\u001b[39;00m\u001b[38;5;21;01mdesign_info\u001b[39;00m \u001b[38;5;28;01mimport\u001b[39;00m DesignMatrix, DesignInfo\n\u001b[1;32m     20\u001b[0m \u001b[38;5;28;01mfrom\u001b[39;00m \u001b[38;5;21;01mpatsy\u001b[39;00m\u001b[38;5;21;01m.\u001b[39;00m\u001b[38;5;21;01meval\u001b[39;00m \u001b[38;5;28;01mimport\u001b[39;00m EvalEnvironment\n\u001b[1;32m     21\u001b[0m \u001b[38;5;28;01mfrom\u001b[39;00m \u001b[38;5;21;01mpatsy\u001b[39;00m\u001b[38;5;21;01m.\u001b[39;00m\u001b[38;5;21;01mdesc\u001b[39;00m \u001b[38;5;28;01mimport\u001b[39;00m ModelDesc\n",
      "File \u001b[0;32m~/Documents/stock_price_prediction/time_series_analysis/lib/python3.12/site-packages/patsy/design_info.py:36\u001b[0m\n\u001b[1;32m     32\u001b[0m \u001b[38;5;28;01mfrom\u001b[39;00m \u001b[38;5;21;01mpatsy\u001b[39;00m\u001b[38;5;21;01m.\u001b[39;00m\u001b[38;5;21;01mcompat\u001b[39;00m \u001b[38;5;28;01mimport\u001b[39;00m OrderedDict\n\u001b[1;32m     33\u001b[0m \u001b[38;5;28;01mfrom\u001b[39;00m \u001b[38;5;21;01mpatsy\u001b[39;00m\u001b[38;5;21;01m.\u001b[39;00m\u001b[38;5;21;01mutil\u001b[39;00m \u001b[38;5;28;01mimport\u001b[39;00m (repr_pretty_delegate, repr_pretty_impl,\n\u001b[1;32m     34\u001b[0m                         safe_issubdtype,\n\u001b[1;32m     35\u001b[0m                         no_pickling, assert_no_pickling)\n\u001b[0;32m---> 36\u001b[0m \u001b[38;5;28;01mfrom\u001b[39;00m \u001b[38;5;21;01mpatsy\u001b[39;00m\u001b[38;5;21;01m.\u001b[39;00m\u001b[38;5;21;01mconstraint\u001b[39;00m \u001b[38;5;28;01mimport\u001b[39;00m linear_constraint\n\u001b[1;32m     37\u001b[0m \u001b[38;5;28;01mfrom\u001b[39;00m \u001b[38;5;21;01mpatsy\u001b[39;00m\u001b[38;5;21;01m.\u001b[39;00m\u001b[38;5;21;01mcontrasts\u001b[39;00m \u001b[38;5;28;01mimport\u001b[39;00m ContrastMatrix\n\u001b[1;32m     38\u001b[0m \u001b[38;5;28;01mfrom\u001b[39;00m \u001b[38;5;21;01mpatsy\u001b[39;00m\u001b[38;5;21;01m.\u001b[39;00m\u001b[38;5;21;01mdesc\u001b[39;00m \u001b[38;5;28;01mimport\u001b[39;00m ModelDesc, Term\n",
      "File \u001b[0;32m~/Documents/stock_price_prediction/time_series_analysis/lib/python3.12/site-packages/patsy/constraint.py:13\u001b[0m\n\u001b[1;32m     10\u001b[0m __all__ \u001b[38;5;241m=\u001b[39m [\u001b[38;5;124m\"\u001b[39m\u001b[38;5;124mLinearConstraint\u001b[39m\u001b[38;5;124m\"\u001b[39m]\n\u001b[1;32m     12\u001b[0m \u001b[38;5;28;01mimport\u001b[39;00m \u001b[38;5;21;01mre\u001b[39;00m\n\u001b[0;32m---> 13\u001b[0m \u001b[38;5;28;01mfrom\u001b[39;00m \u001b[38;5;21;01mcollections\u001b[39;00m \u001b[38;5;28;01mimport\u001b[39;00m Mapping\n\u001b[1;32m     14\u001b[0m \u001b[38;5;28;01mimport\u001b[39;00m \u001b[38;5;21;01msix\u001b[39;00m\n\u001b[1;32m     15\u001b[0m \u001b[38;5;28;01mimport\u001b[39;00m \u001b[38;5;21;01mnumpy\u001b[39;00m \u001b[38;5;28;01mas\u001b[39;00m \u001b[38;5;21;01mnp\u001b[39;00m\n",
      "\u001b[0;31mImportError\u001b[0m: cannot import name 'Mapping' from 'collections' (/opt/homebrew/Cellar/python@3.12/3.12.2_1/Frameworks/Python.framework/Versions/3.12/lib/python3.12/collections/__init__.py)"
     ]
    }
   ],
   "source": [
    "import numpy as np\n",
    "import matplotlib.pyplot as plt\n",
    "import statsmodels.api as sm\n",
    "# Time variable\n",
    "t = np.arange(100)\n",
    "\n",
    "# Generate cyclical data\n",
    "data = 0.05*t  +np.sin(2 * np.pi * t / 10) + np.random.normal(0, 0.1, 100)\n",
    "print(data)\n",
    "\n",
    "# Fit an ARIMA model\n",
    "model = sm.tsa.ARIMA(data, order=(2, 1, 1))\n",
    "model_fit = model.fit()\n",
    "# Plot\n",
    "plt.figure(figsize=(10, 4))\n",
    "plt.plot(data, label='Original Data')\n",
    "plt.plot(model_fit.fittedvalues, label='Fitted Values', color='red')\n",
    "forecast_index = np.arange(100, 112)\n",
    "forecast = model_fit.get_forecast(steps=12)\n",
    "plt.plot(forecast_index,forecast.summary_frame()['mean'],color='green')\n",
    "plt.legend()\n",
    "plt.show()\n",
    "\n",
    "print(\"AR Coefficients:\", model_fit.arparams)\n",
    "print(\"Model Summary:\", model_fit.summary())\n",
    "forecast = model_fit.get_forecast(steps=12)\n",
    "\n",
    "\n",
    "residuals =  model_fit.resid[1:]\n",
    "\n",
    "plt.plot(residuals)\n",
    "print(sum(residuals))\n"
   ]
  }
 ],
 "metadata": {
  "kernelspec": {
   "display_name": "stock_predictor",
   "language": "python",
   "name": "python3"
  },
  "language_info": {
   "codemirror_mode": {
    "name": "ipython",
    "version": 3
   },
   "file_extension": ".py",
   "mimetype": "text/x-python",
   "name": "python",
   "nbconvert_exporter": "python",
   "pygments_lexer": "ipython3",
   "version": "3.12.2"
  }
 },
 "nbformat": 4,
 "nbformat_minor": 2
}
